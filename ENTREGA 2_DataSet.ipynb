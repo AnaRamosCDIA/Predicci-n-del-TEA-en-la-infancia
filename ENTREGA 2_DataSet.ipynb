{
 "cells": [
  {
   "cell_type": "markdown",
   "id": "9974e422-ebe9-4b8e-8153-31b0faa81654",
   "metadata": {},
   "source": [
    "# Predicción de TEA infantil (Trastorno del Espectro Autista)\n",
    "\n",
    "## Entrega 2 - Análisis Exploratorio del Dataset\n",
    "**Alumno:** Ana María Ramos Orcko  \n",
    "**Materia:** Aprendizaje Automático  \n",
    "**Fecha:** 01/06/2025\n"
   ]
  },
  {
   "cell_type": "markdown",
   "id": "e7b3a276-90de-4726-bfbf-848aefc62d8d",
   "metadata": {},
   "source": [
    "## 1. Objetivo\n",
    "\n",
    "El objetivo de este trabajo es construir un modelo de aprendizaje automático que permita predecir si un niño o niña presenta signos compatibles con el Trastorno del Espectro Autista (TEA), a partir de respuestas a un cuestionario de tamizaje y datos sociodemográficos.\n",
    "\n",
    "Para ello, en esta notebook se presenta la descripción del dataset utilizado, su origen, estructura y primeras transformaciones aplicadas.\n"
   ]
  },
  {
   "cell_type": "markdown",
   "id": "66179381-b3bc-4fc7-8e98-4ef7af762e66",
   "metadata": {},
   "source": [
    "## 2. Origen del Dataset\n",
    "El dataset contiene información de un test de screening para detectar señales tempranas de Trastorno del Espectro Autista (TEA) en niños. Fue recopilado por Fayez Thabtah y está disponible públicamente en el repositorio de aprendizaje automático de la UCI.\n",
    "- **Nombre del dataset:** *Autistic Spectrum Disorder Screening Data for Children*\n",
    "- **Fuente oficial:** [UCI Machine Learning Repository](https://archive.ics.uci.edu/dataset/419/autistic+spectrum+disorder+screening+data+for+children)\n",
    "- **Cita recomendada**:  \n",
    "Thabtah, F. (2017). *Autistic Spectrum Disorder Screening Data for Children* [Dataset]. UCI Machine Learning Repository. https://doi.org/10.24432/C5659W\n",
    "- **Nombre de archivo original**: `Autism-Child-Data.arff` fue descargado desde el portal oficial.\n",
    "- **Fecha de creación**: 2017\n",
    "- **Métodos de recopilación de datos**: Cuestionario de screening para TEA\n",
    "- **Formato original del dataset:** `.arff`\n",
    "- **Fecha de descarga del archivo**: 25/05/2025\n",
    "- **Ubicación en este proyecto:**  Se encuentra guardado en el repositorio local en la carpeta `data/raw/Autism-Child-Data.arff`\n",
    "- **Método de carga:** Usamos la librería `scipy.io.arff` para convertir el archivo en un DataFrame de `pandas`. Para esta notebook se trabajó con el archivo `.arff` descargado localmente.\n"
   ]
  },
  {
   "cell_type": "markdown",
   "id": "0976e117-ed7e-4f32-9562-51fceea22055",
   "metadata": {},
   "source": [
    "## 3. Carga de datos y primeras visualizaciones"
   ]
  },
  {
   "cell_type": "code",
   "execution_count": 2,
   "id": "a01100c4-b2b5-4588-aea5-7bc845bf3dfd",
   "metadata": {},
   "outputs": [],
   "source": [
    "# Importar librerías necesarias\n",
    "import pandas as pd\n",
    "from scipy.io import arff #para cargar conjuntos de datos en formato ARFF\n",
    "import numpy as np\n",
    "import matplotlib.pyplot as plt"
   ]
  },
  {
   "cell_type": "code",
   "execution_count": 4,
   "id": "2175e94d-beeb-4ba8-b298-b9829bd17089",
   "metadata": {},
   "outputs": [
    {
     "name": "stdout",
     "output_type": "stream",
     "text": [
      "  A1_Score A2_Score A3_Score A4_Score A5_Score A6_Score A7_Score A8_Score  \\\n",
      "0     b'1'     b'1'     b'0'     b'0'     b'1'     b'1'     b'0'     b'1'   \n",
      "1     b'1'     b'1'     b'0'     b'0'     b'1'     b'1'     b'0'     b'1'   \n",
      "2     b'1'     b'1'     b'0'     b'0'     b'0'     b'1'     b'1'     b'1'   \n",
      "3     b'0'     b'1'     b'0'     b'0'     b'1'     b'1'     b'0'     b'0'   \n",
      "4     b'1'     b'1'     b'1'     b'1'     b'1'     b'1'     b'1'     b'1'   \n",
      "\n",
      "  A9_Score A10_Score  ...  gender           ethnicity jundice austim  \\\n",
      "0     b'0'      b'0'  ...    b'm'           b'Others'   b'no'  b'no'   \n",
      "1     b'0'      b'0'  ...    b'm'  b'Middle Eastern '   b'no'  b'no'   \n",
      "2     b'0'      b'0'  ...    b'm'                b'?'   b'no'  b'no'   \n",
      "3     b'0'      b'1'  ...    b'f'                b'?'  b'yes'  b'no'   \n",
      "4     b'1'      b'1'  ...    b'm'           b'Others'  b'yes'  b'no'   \n",
      "\n",
      "      contry_of_res used_app_before result       age_desc   relation Class/ASD  \n",
      "0         b'Jordan'           b'no'    5.0  b'4-11 years'  b'Parent'     b'NO'  \n",
      "1         b'Jordan'           b'no'    5.0  b'4-11 years'  b'Parent'     b'NO'  \n",
      "2         b'Jordan'          b'yes'    5.0  b'4-11 years'       b'?'     b'NO'  \n",
      "3         b'Jordan'           b'no'    4.0  b'4-11 years'       b'?'     b'NO'  \n",
      "4  b'United States'           b'no'   10.0  b'4-11 years'  b'Parent'    b'YES'  \n",
      "\n",
      "[5 rows x 21 columns]\n"
     ]
    }
   ],
   "source": [
    "# Cargar el archivo .arff con la ruta desde HOME\n",
    "data, meta = arff.loadarff(\"prediccion_tea/data/raw/Autism-Child-Data.arff\")\n",
    "\n",
    "# Convertir a DataFrame\n",
    "df = pd.DataFrame(data)\n",
    "\n",
    "# Mostrar las primeras filas\n",
    "print(df.head())"
   ]
  },
  {
   "cell_type": "code",
   "execution_count": 6,
   "id": "ccf57cc7-28ec-4fbc-830d-a8c05cf5e9c9",
   "metadata": {},
   "outputs": [],
   "source": [
    "# Hay columnas con strings en formato bytes (b''), convertirlas a strings normales\n",
    "for col in df.select_dtypes(include=['object']).columns:\n",
    "    df[col] = df[col].str.decode('utf-8')"
   ]
  },
  {
   "cell_type": "code",
   "execution_count": 8,
   "id": "c362f640-9a25-4204-8699-3a492c9e8b84",
   "metadata": {},
   "outputs": [
    {
     "name": "stdout",
     "output_type": "stream",
     "text": [
      "Número de filas y columnas: (292, 21)\n",
      "Nombres de columnas:\n",
      "Index(['A1_Score', 'A2_Score', 'A3_Score', 'A4_Score', 'A5_Score', 'A6_Score',\n",
      "       'A7_Score', 'A8_Score', 'A9_Score', 'A10_Score', 'age', 'gender',\n",
      "       'ethnicity', 'jundice', 'austim', 'contry_of_res', 'used_app_before',\n",
      "       'result', 'age_desc', 'relation', 'Class/ASD'],\n",
      "      dtype='object')\n",
      "<class 'pandas.core.frame.DataFrame'>\n",
      "RangeIndex: 292 entries, 0 to 291\n",
      "Data columns (total 21 columns):\n",
      " #   Column           Non-Null Count  Dtype  \n",
      "---  ------           --------------  -----  \n",
      " 0   A1_Score         292 non-null    object \n",
      " 1   A2_Score         292 non-null    object \n",
      " 2   A3_Score         292 non-null    object \n",
      " 3   A4_Score         292 non-null    object \n",
      " 4   A5_Score         292 non-null    object \n",
      " 5   A6_Score         292 non-null    object \n",
      " 6   A7_Score         292 non-null    object \n",
      " 7   A8_Score         292 non-null    object \n",
      " 8   A9_Score         292 non-null    object \n",
      " 9   A10_Score        292 non-null    object \n",
      " 10  age              288 non-null    float64\n",
      " 11  gender           292 non-null    object \n",
      " 12  ethnicity        292 non-null    object \n",
      " 13  jundice          292 non-null    object \n",
      " 14  austim           292 non-null    object \n",
      " 15  contry_of_res    292 non-null    object \n",
      " 16  used_app_before  292 non-null    object \n",
      " 17  result           292 non-null    float64\n",
      " 18  age_desc         292 non-null    object \n",
      " 19  relation         292 non-null    object \n",
      " 20  Class/ASD        292 non-null    object \n",
      "dtypes: float64(2), object(19)\n",
      "memory usage: 48.0+ KB\n",
      "Tipos de datos: None\n",
      "Presencia de valores nulos: A1_Score           0\n",
      "A2_Score           0\n",
      "A3_Score           0\n",
      "A4_Score           0\n",
      "A5_Score           0\n",
      "A6_Score           0\n",
      "A7_Score           0\n",
      "A8_Score           0\n",
      "A9_Score           0\n",
      "A10_Score          0\n",
      "age                4\n",
      "gender             0\n",
      "ethnicity          0\n",
      "jundice            0\n",
      "austim             0\n",
      "contry_of_res      0\n",
      "used_app_before    0\n",
      "result             0\n",
      "age_desc           0\n",
      "relation           0\n",
      "Class/ASD          0\n",
      "dtype: int64\n"
     ]
    }
   ],
   "source": [
    "# Verificar la estructura del dataset\n",
    "print(\"Número de filas y columnas:\", df.shape)\n",
    "\n",
    "# Mostrar nombres de todas las columnas del DataFrame\n",
    "print(\"Nombres de columnas:\")\n",
    "print(df.columns)\n",
    "\n",
    "print(\"Tipos de datos:\", df.info())\n",
    "print(\"Presencia de valores nulos:\", df.isnull().sum())"
   ]
  },
  {
   "cell_type": "code",
   "execution_count": 10,
   "id": "81c98bd6-d9b9-4afa-89f2-08f1bd2c27aa",
   "metadata": {},
   "outputs": [
    {
     "name": "stdout",
     "output_type": "stream",
     "text": [
      "Valores únicos en la columna 'A1_Score':\n",
      "['1' '0']\n",
      "--------------------------------------------------\n",
      "Valores únicos en la columna 'A2_Score':\n",
      "['1' '0']\n",
      "--------------------------------------------------\n",
      "Valores únicos en la columna 'A3_Score':\n",
      "['0' '1']\n",
      "--------------------------------------------------\n",
      "Valores únicos en la columna 'A4_Score':\n",
      "['0' '1']\n",
      "--------------------------------------------------\n",
      "Valores únicos en la columna 'A5_Score':\n",
      "['1' '0']\n",
      "--------------------------------------------------\n",
      "Valores únicos en la columna 'A6_Score':\n",
      "['1' '0']\n",
      "--------------------------------------------------\n",
      "Valores únicos en la columna 'A7_Score':\n",
      "['0' '1']\n",
      "--------------------------------------------------\n",
      "Valores únicos en la columna 'A8_Score':\n",
      "['1' '0']\n",
      "--------------------------------------------------\n",
      "Valores únicos en la columna 'A9_Score':\n",
      "['0' '1']\n",
      "--------------------------------------------------\n",
      "Valores únicos en la columna 'A10_Score':\n",
      "['0' '1']\n",
      "--------------------------------------------------\n",
      "Valores únicos en la columna 'age':\n",
      "[ 6.  5.  4. 11. 10.  8.  7.  9. nan]\n",
      "--------------------------------------------------\n",
      "Valores únicos en la columna 'gender':\n",
      "['m' 'f']\n",
      "--------------------------------------------------\n",
      "Valores únicos en la columna 'ethnicity':\n",
      "['Others' 'Middle Eastern ' '?' 'White-European' 'Black' 'South Asian'\n",
      " 'Asian' 'Pasifika' 'Hispanic' 'Turkish' 'Latino']\n",
      "--------------------------------------------------\n",
      "Valores únicos en la columna 'jundice':\n",
      "['no' 'yes']\n",
      "--------------------------------------------------\n",
      "Valores únicos en la columna 'austim':\n",
      "['no' 'yes']\n",
      "--------------------------------------------------\n",
      "Valores únicos en la columna 'contry_of_res':\n",
      "['Jordan' 'United States' 'Egypt' 'United Kingdom' 'Bahrain' 'Austria'\n",
      " 'Kuwait' 'United Arab Emirates' 'Europe' 'Malta' 'Bulgaria'\n",
      " 'South Africa' 'India' 'Afghanistan' 'Georgia' 'New Zealand' 'Syria'\n",
      " 'Iraq' 'Australia' 'Saudi Arabia' 'Armenia' 'Turkey' 'Pakistan' 'Canada'\n",
      " 'Oman' 'Brazil' 'South Korea' 'Costa Rica' 'Sweden' 'Philippines'\n",
      " 'Malaysia' 'Argentina' 'Japan' 'Bangladesh' 'Qatar' 'Ireland' 'Romania'\n",
      " 'Netherlands' 'Lebanon' 'Germany' 'Latvia' 'Russia' 'Italy' 'China'\n",
      " 'Nigeria' 'U.S. Outlying Islands' 'Nepal' 'Mexico' 'Isle of Man' 'Libya'\n",
      " 'Ghana' 'Bhutan']\n",
      "--------------------------------------------------\n",
      "Valores únicos en la columna 'used_app_before':\n",
      "['no' 'yes']\n",
      "--------------------------------------------------\n",
      "Valores únicos en la columna 'result':\n",
      "[ 5.  4. 10.  7.  8.  3.  9.  2.  1.  6.  0.]\n",
      "--------------------------------------------------\n",
      "Valores únicos en la columna 'age_desc':\n",
      "['4-11 years']\n",
      "--------------------------------------------------\n",
      "Valores únicos en la columna 'relation':\n",
      "['Parent' '?' 'Self' 'Relative' 'Health care professional' 'self']\n",
      "--------------------------------------------------\n",
      "Valores únicos en la columna 'Class/ASD':\n",
      "['NO' 'YES']\n",
      "--------------------------------------------------\n"
     ]
    }
   ],
   "source": [
    "# Obtener los valores únicos en cada columna\n",
    "for columna in df.columns:\n",
    "    print(f\"Valores únicos en la columna '{columna}':\")\n",
    "    print(df[columna].unique())\n",
    "    print(\"-\" * 50)"
   ]
  },
  {
   "cell_type": "markdown",
   "id": "4b73c932-699e-4376-82cf-b4a1f213ae89",
   "metadata": {},
   "source": [
    "## 4. Descripción del dataset\n",
    "Esta salida corresponde a la estructura de un **DataFrame de Pandas** con información sobre 292 registros y 21 columnas. \n",
    "\n",
    "### **1. Tamaño del DataFrame**  \n",
    "- Tiene **292 filas** y **21 columnas**, lo que indica que hay 292 observaciones en el conjunto de datos.\n",
    "\n",
    "### **2. Tipos de Datos**  \n",
    "- La mayoría de las columnas (**19 en total**) tienen el tipo `object`, lo que implica que contienen **datos categóricos o texto**.  \n",
    "- Dos columnas (`age` y `result`) son de tipo `float64`, indicando **valores numéricos continuos**.\n",
    "|"
   ]
  },
  {
   "cell_type": "markdown",
   "id": "a3defb83-60e0-4aa5-ad9b-3f30fc3c5bba",
   "metadata": {},
   "source": [
    "### **3. Valores Nulos**  \n",
    "- La columna `age` tiene **4 valores nulos**, lo que podría afectar el análisis si la edad es un factor relevante.  \n",
    "- Todas las demás columnas tienen **datos completos** (sin valores nulos).\n",
    "\n",
    "### **4. Errores o Inconsistencias**  \n",
    "- **Errores tipográficos** en nombres de columnas:  \n",
    "  - `\"jundice\"` debería ser **\"jaundice\"** (ictericia: qué es? https://www.topdoctors.es/diccionario-medico/ictericia/) refiere a la bilirrubina.  \n",
    "  - `\"austim\"` probablemente debería ser **\"autism\"**.  \n",
    "  - `\"contry_of_res\"` debería ser **\"country_of_residence\"**.  \n",
    "- **Tipo de datos en columnas de puntuación (`A1_Score` a `A10_Score`)**:  \n",
    "  - Están en formato `object`, pero podrian ser numericas INT O FLOAT ya que contienen valores binarios (`0` y `1`)."
   ]
  },
  {
   "cell_type": "markdown",
   "id": "14b17312-4854-4cec-8f1b-546e6f1b338a",
   "metadata": {},
   "source": [
    "### Variables A1_SCores a A10_Score. \n",
    "De acuerdo a la referencia señalada en la documentación descargada de la fuente principal antes señalada, las variables A1_SCores a A10_Score corresponden a las preguntas incluidas en el AQ-10-Child, las cuales sirven para evaluar rasgos de comportamiento asociados al TEA en niños. Estas preguntas incluyen aspectos como la capacidad de seguir conversaciones, interpretar emociones en rostros, facilidad para hacer amigos y patrones de atención a detalles. \n",
    "El documento mencionado \"A1_Score a A10_Score\" se encuentra en el siguiente link de acceso web: https://www.autismresearchcentre.com/tests/autism-spectrum-quotient-10-items-aq-10-child/.\n",
    "A su vez, también encuentra almacenado en el repositorio local dentro de la carpeta data/external/Child_Spanish.docx\n",
    "\n",
    "Estas variables representan las respuestas (0 = No, 1 = Sí) a preguntas del cuestionario clínico AQ-10:\n",
    "\n",
    "- `A1_Score`: ¿El niño evita el contacto visual?\n",
    "- `A2_Score`: ¿Responde cuando lo llaman por su nombre?\n",
    "- `A3_Score`: ¿Comparte intereses con los demás?\n",
    "- `A4_Score`: ¿Juega de forma imaginativa?\n",
    "- `A5_Score`: ¿Señala para mostrar cosas que le interesan?\n",
    "- `A6_Score`: ¿Responde a expresiones emocionales?\n",
    "- `A7_Score`: ¿Sigue instrucciones simples?\n",
    "- `A8_Score`: ¿Muestra afecto hacia otros?\n",
    "- `A9_Score`: ¿Inicia interacciones sociales?\n",
    "- `A10_Score`: ¿Utiliza gestos como saludar?\n",
    "\n",
    "### Otras variables, las salidas: \n",
    "\n",
    "- `age`: Edad del niño (numérica).\n",
    "- `gender`: Género del niño (`m` o `f`).\n",
    "- `jundice`: Si tuvo ictericia al nacer (`yes` o `no`) (ictericia: qué es? https://www.topdoctors.es/diccionario-medico/ictericia/) refiere a la bilirrubina.\n",
    "- `austim`: Historial familiar de TEA (`yes` o `no`) refiere a si un familiar cercano ha sido diagnosticado con un trastorno generalizado del desarrollo de autismo.\n",
    "- `Class/ASD`: Resultado del test de screening (`YES` = resultado positivo, `NO` = resultado negativo), tiene o no TEA.\n",
    "\n",
    "### Variables que se considera necesario eliminar por no aportar al objetivo predictivo:\n",
    "- `ethnicity`, `contry_of_res`, `used_app_before`, `result`, `age_desc`, `relation`"
   ]
  },
  {
   "cell_type": "markdown",
   "id": "308ea94e-1ae3-4797-9a81-0704f2717014",
   "metadata": {},
   "source": [
    "| **Atributo**                       | **Tipo**            | **Descripción (traducida)**                                                                             | **¿Qué busca?**                                                                 |\n",
    "| ---------------------------------- | ------------------- | ------------------------------------------------------------------------------------------------------- | ------------------------------------------------------------------------------- |\n",
    "| **Edad**                           | Número              | Años                                                                                                    | Determinar si la edad influye en la probabilidad de presentar signos de TEA.    |\n",
    "| **Género**                         | Cadena (String)     | Masculino o Femenino                                                                                    | Analizar diferencias en la prevalencia de TEA según el género.                  |\n",
    "| **Etnia**                          | Cadena (String)     | Lista de etnias comunes en formato de texto                                                             | Explorar si hay variaciones culturales o genéticas relacionadas al diagnóstico. |\n",
    "| **Nacido con ictericia**           | Booleano (sí o no)  | Si el niño nació con ictericia (problema médico al nacer)                                               | Evaluar si esta condición neonatal está correlacionada con TEA.                 |\n",
    "| **Familiar con PDD**               | Booleano (sí o no)  | Si un familiar cercano ha sido diagnosticado con un trastorno generalizado del desarrollo (PDD)         | Investigar la influencia genética o antecedentes familiares.                    |\n",
    "| **Quién completa el test**         | Cadena (String)     | Puede ser el padre, la madre, cuidador, personal médico, clínico, etc.                                  | Saber quién proporciona la información del test y su relación con el niño.      |\n",
    "| **País de residencia**             | Cadena (String)     | Lista de países                                                                                         | Estudiar posibles factores culturales o del entorno.                            |\n",
    "| **Usó app de detección antes**     | Booleano (sí o no)  | Si el usuario ya había usado una aplicación de cribado o detección del TEA                              | Conocer el grado de exposición previa al cribado del TEA.                       |\n",
    "| **Tipo de método de detección**    | Entero (0, 1, 2, 3) | Tipo de test utilizado, según la edad: 0=toddler (niño pequeño), 1=child (niño), 2=adolescent, 3=adulto | Saber qué test se usó según la edad del evaluado, ya que los criterios varían.  |\n",
    "| **Respuesta a Pregunta 1**         | Binario (0, 1)      | Respuesta codificada a la pregunta 1 del cuestionario                                                   | Medir comportamientos relacionados con el TEA.                                  |\n",
    "| **Respuesta a Pregunta 2**         | Binario (0, 1)      | Respuesta codificada a la pregunta 2                                                                    | Ídem anterior.                                                                  |\n",
    "| **Respuesta a Pregunta 3**         | Binario (0, 1)      | Respuesta codificada a la pregunta 3                                                                    | Ídem anterior.                                                                  |\n",
    "| **Respuesta a Pregunta 4**         | Binario (0, 1)      | Respuesta codificada a la pregunta 4                                                                    | Ídem anterior.                                                                  |\n",
    "| **Respuesta a Pregunta 5**         | Binario (0, 1)      | Respuesta codificada a la pregunta 5                                                                    | Ídem anterior.                                                                  |\n",
    "| **Respuesta a Pregunta 6**         | Binario (0, 1)      | Respuesta codificada a la pregunta 6                                                                    | Ídem anterior.                                                                  |\n",
    "| **Respuesta a Pregunta 7**         | Binario (0, 1)      | Respuesta codificada a la pregunta 7                                                                    | Ídem anterior.                                                                  |\n",
    "| **Respuesta a Pregunta 8**         | Binario (0, 1)      | Respuesta codificada a la pregunta 8                                                                    | Ídem anterior.                                                                  |\n",
    "| **Respuesta a Pregunta 9**         | Binario (0, 1)      | Respuesta codificada a la pregunta 9                                                                    | Ídem anterior.                                                                  |\n",
    "| **Respuesta a Pregunta 10**        | Binario (0, 1)      | Respuesta codificada a la pregunta 10                                                                   | Ídem anterior.                                                                  |\n",
    "| **Puntaje de cribado (screening)** | Entero              | Puntaje final calculado en base a las respuestas. Se computó de forma automática por un algoritmo       | Es el resultado global del test, indica si hay signos consistentes con el TEA.  |\n"
   ]
  },
  {
   "cell_type": "code",
   "execution_count": 16,
   "id": "19ba2a09-00a2-4980-b133-d77e8f716db4",
   "metadata": {},
   "outputs": [
    {
     "name": "stdout",
     "output_type": "stream",
     "text": [
      "Cantidad de casos por clase:\n",
      "Class/ASD\n",
      "NO     151\n",
      "YES    141\n",
      "Name: count, dtype: int64\n",
      "\n",
      "Porcentaje de casos por clase:\n",
      "Class/ASD\n",
      "NO     51.712329\n",
      "YES    48.287671\n",
      "Name: proportion, dtype: float64\n"
     ]
    },
    {
     "data": {
      "image/png": "[encoded data removed]",
      "text/plain": [
       "<Figure size 600x400 with 1 Axes>"
      ]
     },
     "metadata": {},
     "output_type": "display_data"
    }
   ],
   "source": [
    "# Cantidad de casos por clase\n",
    "conteo = df['Class/ASD'].value_counts()\n",
    "print(\"Cantidad de casos por clase:\")\n",
    "print(conteo)\n",
    "\n",
    "# Porcentaje por clase\n",
    "porcentaje = df['Class/ASD'].value_counts(normalize=True) * 100\n",
    "print(\"\\nPorcentaje de casos por clase:\")\n",
    "print(porcentaje)\n",
    "\n",
    "# Visualización de la distribución\n",
    "import seaborn as sns\n",
    "import matplotlib.pyplot as plt\n",
    "\n",
    "plt.figure(figsize=(6, 4))\n",
    "sns.countplot(data=df, x='Class/ASD', hue='Class/ASD', palette='Set2', legend=False)\n",
    "plt.title(\"Distribución de la variable objetivo ('Class/ASD')\")\n",
    "plt.xlabel(\"Diagnóstico (NO = sin autismo, YES = con autismo)\")\n",
    "plt.ylabel(\"Cantidad de observaciones\")\n",
    "plt.grid(axis='y', linestyle='--', alpha=0.7)\n",
    "plt.show()"
   ]
  },
  {
   "cell_type": "markdown",
   "id": "9c136317-d57b-4317-afc0-a99ff8206c83",
   "metadata": {},
   "source": [
    "### **5. Consideraciones para el Análisis** \n",
    "- **Eliminar variables no relevantes**: - `ethnicity`, `contry_of_res`, `used_app_before`, `result`, `age_desc`, `relation`\n",
    "- **Limpieza**: Corregir nombres de columnas mal escritos.  \n",
    "- **Conversión de datos**: Asegurar que las columnas `A1_Score` a `A10_Score` sean de tipo `int`, si solo contienen valores `0` y `1`.  \n",
    "- **Tratamiento de valores nulos**: Decidir cómo manejar los registros con edad faltante (imputación con media/mediana o eliminación).  \n"
   ]
  },
  {
   "cell_type": "code",
   "execution_count": 22,
   "id": "0bd68bbe-1830-439a-b73e-f8e46ab6c428",
   "metadata": {},
   "outputs": [],
   "source": [
    "# Eliminar variables no relevantes\n",
    "df = df.drop(['ethnicity', 'contry_of_res', 'used_app_before',\n",
    "       'result', 'age_desc', 'relation'], axis=1)"
   ]
  },
  {
   "cell_type": "markdown",
   "id": "3c54bc9e-8baa-4ecf-ad66-8d778348123d",
   "metadata": {},
   "source": [
    "Después de eliminar las columnas no relevantes, es importante verificar el tipo de dato de cada columna y convertirlos según sea necesario para que puedan ser utilizados en modelos de predicción.\n",
    "Columnas categóricas: Las columnas que contienen valores categóricos como '' y 'f' para género, 'no' y 'yes' para jundice, austim, etc., deben ser convertidas a variables categóricas utilizando el método .astype('category')\n",
    "Columnas numéricas: Las columnas que contienen valores numéricos como la edad, deben ser verificadas para asegurarse de que sean del tipo de dato correcto (int64 o float64).\n",
    "Columnas de puntuación: Las columnas que contienen puntuaciones como A1_Score, A2_Score, etc., deben ser verificadas para asegurarse de que sean del tipo de dato correcto (int64)."
   ]
  },
  {
   "cell_type": "code",
   "execution_count": 25,
   "id": "587ad165-87ab-438e-a071-031d081da5c6",
   "metadata": {},
   "outputs": [
    {
     "name": "stdout",
     "output_type": "stream",
     "text": [
      "float64\n",
      "object\n",
      "object\n",
      "object\n",
      "object\n",
      "object\n",
      "object\n",
      "object\n",
      "object\n",
      "object\n",
      "object\n"
     ]
    }
   ],
   "source": [
    "# Convertir columnas categóricas\n",
    "df['gender'] = df['gender'].astype('category')\n",
    "df['jundice'] = df['jundice'].astype('category')\n",
    "df['austim'] = df['austim'].astype('category')\n",
    "df['Class/ASD'] = df['Class/ASD'].astype('category')\n",
    "\n",
    "# Verificar tipo de dato de columnas numéricas\n",
    "print(df['age'].dtype)  # Debe ser int64 o float64\n",
    "\n",
    "# Verificar tipo de dato de columnas de puntuación\n",
    "for columna in ['A1_Score', 'A2_Score', 'A3_Score', 'A4_Score', 'A5_Score', 'A6_Score', 'A7_Score', 'A8_Score', 'A9_Score', 'A10_Score']:\n",
    "    print(df[columna].dtype)  # Debe ser int64\n",
    "\n",
    "# Convertir columnas de puntuación a int64 si es necesario\n",
    "for columna in ['A1_Score', 'A2_Score', 'A3_Score', 'A4_Score', 'A5_Score', 'A6_Score', 'A7_Score', 'A8_Score', 'A9_Score', 'A10_Score']:\n",
    "    df[columna] = df[columna].astype(int)"
   ]
  },
  {
   "cell_type": "markdown",
   "id": "20ef12e9-bc4a-433b-beb6-edf74d793487",
   "metadata": {},
   "source": [
    "Después de convertir las columnas, es importante verificar que no haya valores nulos en las columnas que se utilizarán en los modelos de predicción. "
   ]
  },
  {
   "cell_type": "code",
   "execution_count": 28,
   "id": "962dd701-671c-4e66-b1f0-79cfcd94d81d",
   "metadata": {},
   "outputs": [
    {
     "name": "stdout",
     "output_type": "stream",
     "text": [
      "Presencia de valores nulos después de eliminar variables: A1_Score     0\n",
      "A2_Score     0\n",
      "A3_Score     0\n",
      "A4_Score     0\n",
      "A5_Score     0\n",
      "A6_Score     0\n",
      "A7_Score     0\n",
      "A8_Score     0\n",
      "A9_Score     0\n",
      "A10_Score    0\n",
      "age          4\n",
      "gender       0\n",
      "jundice      0\n",
      "austim       0\n",
      "Class/ASD    0\n",
      "dtype: int64\n"
     ]
    }
   ],
   "source": [
    "# Verificar la presencia de valores nulos\n",
    "print(\"Presencia de valores nulos después de eliminar variables:\", df.isnull().sum())"
   ]
  },
  {
   "cell_type": "code",
   "execution_count": 30,
   "id": "2af5ec4a-15ae-4550-9d59-04dad64c48db",
   "metadata": {},
   "outputs": [
    {
     "data": {
      "text/plain": [
       "count    288.000000\n",
       "mean       6.354167\n",
       "std        2.365456\n",
       "min        4.000000\n",
       "25%        4.000000\n",
       "50%        6.000000\n",
       "75%        8.000000\n",
       "max       11.000000\n",
       "Name: age, dtype: float64"
      ]
     },
     "execution_count": 30,
     "metadata": {},
     "output_type": "execute_result"
    }
   ],
   "source": [
    "df[\"age\"].describe()"
   ]
  },
  {
   "cell_type": "code",
   "execution_count": 32,
   "id": "cb89fd91-dedb-4feb-bd26-6b526082e357",
   "metadata": {},
   "outputs": [],
   "source": [
    "# Reemplazar valores faltantes de age con la moda\n",
    "df['age'] = df['age'].fillna(df['age'].mode()[0])"
   ]
  },
  {
   "cell_type": "code",
   "execution_count": 34,
   "id": "c5744049-db1c-43f9-9c36-9f99e48f8ac7",
   "metadata": {},
   "outputs": [
    {
     "name": "stdout",
     "output_type": "stream",
     "text": [
      "Presencia de valores nulos después de reemplazar valores faltantes: 0\n"
     ]
    }
   ],
   "source": [
    "# Verificar que los valores faltantes hayan sido reemplazados correctamente\n",
    "print(\"Presencia de valores nulos después de reemplazar valores faltantes:\", df['age'].isnull().sum())"
   ]
  },
  {
   "cell_type": "code",
   "execution_count": 36,
   "id": "be09898d-7c1a-45ad-aefa-53587f606ec9",
   "metadata": {},
   "outputs": [
    {
     "name": "stdout",
     "output_type": "stream",
     "text": [
      "Estadísticas de la columna age después de reemplazar valores faltantes:\n",
      "count    292.000000\n",
      "mean       6.321918\n",
      "std        2.365081\n",
      "min        4.000000\n",
      "25%        4.000000\n",
      "50%        6.000000\n",
      "75%        8.000000\n",
      "max       11.000000\n",
      "Name: age, dtype: float64\n"
     ]
    }
   ],
   "source": [
    "# Verificar la estadística de la columna age después de reemplazar los valores faltantes\n",
    "print(\"Estadísticas de la columna age después de reemplazar valores faltantes:\")\n",
    "print(df['age'].describe())"
   ]
  },
  {
   "cell_type": "code",
   "execution_count": 38,
   "id": "715886d2-76a6-49ad-836e-66f8e9a35680",
   "metadata": {},
   "outputs": [
    {
     "name": "stdout",
     "output_type": "stream",
     "text": [
      "   A1_Score  A2_Score  A3_Score  A4_Score  A5_Score  A6_Score  A7_Score  \\\n",
      "0         1         1         0         0         1         1         0   \n",
      "1         1         1         0         0         1         1         0   \n",
      "2         1         1         0         0         0         1         1   \n",
      "3         0         1         0         0         1         1         0   \n",
      "4         1         1         1         1         1         1         1   \n",
      "\n",
      "   A8_Score  A9_Score  A10_Score  age gender jundice austim Class/ASD  \n",
      "0         1         0          0  6.0      m      no     no        NO  \n",
      "1         1         0          0  6.0      m      no     no        NO  \n",
      "2         1         0          0  6.0      m      no     no        NO  \n",
      "3         0         0          1  5.0      f     yes     no        NO  \n",
      "4         1         1          1  5.0      m     yes     no       YES  \n",
      "<class 'pandas.core.frame.DataFrame'>\n",
      "RangeIndex: 292 entries, 0 to 291\n",
      "Data columns (total 15 columns):\n",
      " #   Column     Non-Null Count  Dtype   \n",
      "---  ------     --------------  -----   \n",
      " 0   A1_Score   292 non-null    int32   \n",
      " 1   A2_Score   292 non-null    int32   \n",
      " 2   A3_Score   292 non-null    int32   \n",
      " 3   A4_Score   292 non-null    int32   \n",
      " 4   A5_Score   292 non-null    int32   \n",
      " 5   A6_Score   292 non-null    int32   \n",
      " 6   A7_Score   292 non-null    int32   \n",
      " 7   A8_Score   292 non-null    int32   \n",
      " 8   A9_Score   292 non-null    int32   \n",
      " 9   A10_Score  292 non-null    int32   \n",
      " 10  age        292 non-null    float64 \n",
      " 11  gender     292 non-null    category\n",
      " 12  jundice    292 non-null    category\n",
      " 13  austim     292 non-null    category\n",
      " 14  Class/ASD  292 non-null    category\n",
      "dtypes: category(4), float64(1), int32(10)\n",
      "memory usage: 15.4 KB\n",
      "None\n"
     ]
    }
   ],
   "source": [
    "# Verificar la estructura de los datos\n",
    "print(df.head())\n",
    "print(df.info())"
   ]
  },
  {
   "cell_type": "markdown",
   "id": "29d204a8-f832-403c-a44f-a1854ce4841b",
   "metadata": {},
   "source": [
    "Habiendo verificado la estructura de los datos, podemos ver que:\n",
    "\n",
    "* El conjunto de datos tiene 292 filas y 15 columnas.\n",
    "* Las columnas son de tipo entero (`int32`) para las variables `A1_Score` a `A10_Score`, y de tipo flotante (`float64`) para la variable `age`.\n",
    "* Las columnas `gender`, `jundice`, `austim` y `Class/ASD` son de tipo categoría (`category`).\n",
    "* No hay valores faltantes en el conjunto de datos.\n",
    "\n",
    "La estructura de los datos es la siguiente:\n",
    "\n",
    "* `A1_Score` a `A10_Score`: variables que representan las respuestas a una serie de preguntas o pruebas, con valores de 0 o 1.\n",
    "* `age`: variable que representa la edad del niño, con valores flotantes.\n",
    "* `gender`: variable que representa el género del niño, con valores categorizados (m o f).\n",
    "* `jundice`: variable que representa si el niño tiene ictericia, con valores categorizados (yes o no).\n",
    "* `austim`: variable que representa si el niño tiene autismo, con valores categorizados (yes o no).\n",
    "* `Class/ASD`: variable que representa la clase o diagnóstico del niño, con valores categorizados (NO o YES).\n",
    "\n",
    "Ahora que hemos verificado la estructura de los datos, podemos proceder a realizar un análisis exploratorio de los datos para entender mejor la distribución de las variables y las relaciones entre ellas. ¿Quieres continuar con el análisis exploratorio?"
   ]
  },
  {
   "cell_type": "markdown",
   "id": "a3c05b30-9e5a-4df8-b85d-b90caf77f182",
   "metadata": {},
   "source": [
    "Las columnas `gender`, `jundice`, `austim` y `Class/ASD` son de tipo categoría (contienen valores no numéricos) y dado que la mayoría de los algoritmos de modelado requieren que las variables sean numéricas, habra q convertirlas a un formato numérico.\n",
    "Se podría asignar el valor 0 a la categoría \"NO\" y el valor 1 a la categoría \"YES\".\n"
   ]
  },
  {
   "cell_type": "code",
   "execution_count": 41,
   "id": "c74476ae-cca3-4e5b-a088-016861f8cd78",
   "metadata": {},
   "outputs": [],
   "source": [
    "import pandas as pd\n",
    "\n",
    "# One-hot encoding para las columnas gender, jundice y austim\n",
    "df = pd.get_dummies(df, columns=['gender', 'jundice', 'austim'])\n",
    "\n",
    "# Label encoding para la columna Class/ASD\n",
    "df['Class/ASD'] = df['Class/ASD'].map({'NO': 0, 'YES': 1})"
   ]
  },
  {
   "cell_type": "code",
   "execution_count": 43,
   "id": "097d73df-9de9-46cd-9c8e-f82013803003",
   "metadata": {},
   "outputs": [
    {
     "name": "stdout",
     "output_type": "stream",
     "text": [
      "   A1_Score  A2_Score  A3_Score  A4_Score  A5_Score  A6_Score  A7_Score  \\\n",
      "0         1         1         0         0         1         1         0   \n",
      "1         1         1         0         0         1         1         0   \n",
      "2         1         1         0         0         0         1         1   \n",
      "3         0         1         0         0         1         1         0   \n",
      "4         1         1         1         1         1         1         1   \n",
      "\n",
      "   A8_Score  A9_Score  A10_Score  age Class/ASD  gender_f  gender_m  \\\n",
      "0         1         0          0  6.0         0     False      True   \n",
      "1         1         0          0  6.0         0     False      True   \n",
      "2         1         0          0  6.0         0     False      True   \n",
      "3         0         0          1  5.0         0      True     False   \n",
      "4         1         1          1  5.0         1     False      True   \n",
      "\n",
      "   jundice_no  jundice_yes  austim_no  austim_yes  \n",
      "0        True        False       True       False  \n",
      "1        True        False       True       False  \n",
      "2        True        False       True       False  \n",
      "3       False         True       True       False  \n",
      "4       False         True       True       False  \n",
      "<class 'pandas.core.frame.DataFrame'>\n",
      "RangeIndex: 292 entries, 0 to 291\n",
      "Data columns (total 18 columns):\n",
      " #   Column       Non-Null Count  Dtype   \n",
      "---  ------       --------------  -----   \n",
      " 0   A1_Score     292 non-null    int32   \n",
      " 1   A2_Score     292 non-null    int32   \n",
      " 2   A3_Score     292 non-null    int32   \n",
      " 3   A4_Score     292 non-null    int32   \n",
      " 4   A5_Score     292 non-null    int32   \n",
      " 5   A6_Score     292 non-null    int32   \n",
      " 6   A7_Score     292 non-null    int32   \n",
      " 7   A8_Score     292 non-null    int32   \n",
      " 8   A9_Score     292 non-null    int32   \n",
      " 9   A10_Score    292 non-null    int32   \n",
      " 10  age          292 non-null    float64 \n",
      " 11  Class/ASD    292 non-null    category\n",
      " 12  gender_f     292 non-null    bool    \n",
      " 13  gender_m     292 non-null    bool    \n",
      " 14  jundice_no   292 non-null    bool    \n",
      " 15  jundice_yes  292 non-null    bool    \n",
      " 16  austim_no    292 non-null    bool    \n",
      " 17  austim_yes   292 non-null    bool    \n",
      "dtypes: bool(6), category(1), float64(1), int32(10)\n",
      "memory usage: 15.9 KB\n",
      "None\n"
     ]
    }
   ],
   "source": [
    "print(df.head())\n",
    "print(df.info())"
   ]
  },
  {
   "cell_type": "markdown",
   "id": "bbc4bb97-4f45-427a-bf48-2c3f51101cd8",
   "metadata": {},
   "source": [
    "✅ 6. Descripción de variables \n",
    "Después de la limpieza y transformación, nuestro conjunto de datos tiene 292 filas y 18 columnas. Las variables incluyen respuestas a preguntas o pruebas (A1_Score a A10_Score), edad (age), género (gender_f y gender_m), ictericia (jundice_no y jundice_yes) y autismo (austim_no y austim_yes). La variable objetivo es Class/ASD, que indica si el niño tiene autismo o no. Los datos han sido transformados para que tengan un formato adecuado para el análisis y el modelado."
   ]
  },
  {
   "cell_type": "markdown",
   "id": "db9ae5c5-9a32-440f-9332-d7c606315d79",
   "metadata": {},
   "source": [
    "## 5. Preguntas de investigación\n",
    "\n",
    "- ¿Existe relación entre la edad y la probabilidad de diagnóstico de TEA?\n",
    "- ¿Las respuestas al cuestionario (A1–A10) predicen efectivamente el diagnóstico?\n",
    "- ¿El género o antecedentes como ictericia al nacer influyen en el diagnóstico?\n",
    "- ¿Cuáles son las variables más influyentes en la predicción de posibles casos de TEA en el dataset seleccionado?\n",
    "\n",
    "## Hipótesis\n",
    "\n",
    "- H1: Existen ciertas variables sociodemográficas y de comportamiento (como género, edad, respuestas del cuestionario, etc.) que tienen una fuerte correlación con la variable objetivo.\n",
    "- H2: No hay diferencia significativa entre género y diagnóstico.\n",
    "- H3: El antecedente de ictericia está asociado a mayor riesgo de TEA.\n"
   ]
  },
  {
   "cell_type": "markdown",
   "id": "f1d52b1d-c77c-4608-a8ca-3fbcdde2ea7c",
   "metadata": {},
   "source": [
    "✅ 8. Guardar el dataset limpio "
   ]
  },
  {
   "cell_type": "code",
   "execution_count": 59,
   "id": "b389a119-d8f3-4fe8-9ee7-bb271eb12b66",
   "metadata": {},
   "outputs": [
    {
     "name": "stdout",
     "output_type": "stream",
     "text": [
      "Archivo guardado correctamente.\n"
     ]
    }
   ],
   "source": [
    "# Guardar como CSV para uso posterior\n",
    "# Guardar el DataFrame limpio como CSV\n",
    "df.to_csv(\"prediccion_tea/data/processed/autismo_niños_limpio.csv\", index=False)\n",
    "print(\"Archivo guardado correctamente.\")\n",
    "\n"
   ]
  },
  {
   "cell_type": "code",
   "execution_count": null,
   "id": "f4078c11-aa4a-451c-9327-87b114eb615b",
   "metadata": {},
   "outputs": [],
   "source": []
  }
 ],
 "metadata": {
  "kernelspec": {
   "display_name": "Python 3 (ipykernel)",
   "language": "python",
   "name": "python3"
  },
  "language_info": {
   "codemirror_mode": {
    "name": "ipython",
    "version": 3
   },
   "file_extension": ".py",
   "mimetype": "text/x-python",
   "name": "python",
   "nbconvert_exporter": "python",
   "pygments_lexer": "ipython3",
   "version": "3.12.7"
  }
 },
 "nbformat": 4,
 "nbformat_minor": 5
}
